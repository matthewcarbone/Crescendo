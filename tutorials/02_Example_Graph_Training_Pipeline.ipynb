{
 "cells": [
  {
   "cell_type": "markdown",
   "metadata": {},
   "source": [
    "# 02: Example training via the QM9 pipeline\n",
    "In this notebook, we demonstrate a basic example of training using graph-based networks."
   ]
  },
  {
   "cell_type": "code",
   "execution_count": null,
   "metadata": {},
   "outputs": [],
   "source": [
    "%load_ext autoreload\n",
    "%autoreload 2"
   ]
  },
  {
   "cell_type": "code",
   "execution_count": null,
   "metadata": {},
   "outputs": [],
   "source": [
    "import os\n",
    "complete_path = os.getcwd()\n",
    "if 'tutorials' in complete_path:\n",
    "    os.chdir(\"..\")"
   ]
  },
  {
   "cell_type": "code",
   "execution_count": null,
   "metadata": {},
   "outputs": [],
   "source": [
    "import numpy as np\n",
    "import torch\n",
    "import matplotlib.pyplot as plt\n",
    "import networkx as nx\n",
    "import dgl\n",
    "import os"
   ]
  },
  {
   "cell_type": "code",
   "execution_count": null,
   "metadata": {},
   "outputs": [],
   "source": [
    "from crescendo.datasets.qm9 import QMXDataset\n",
    "from crescendo.protocols.graph_protocols import GraphToVectorProtocol"
   ]
  },
  {
   "cell_type": "markdown",
   "metadata": {},
   "source": [
    "## Load the data\n",
    "Here, we initialize a dummy graph dataset and use this to override the `ml_data` attribute in the `QMXDataset`."
   ]
  },
  {
   "cell_type": "code",
   "execution_count": null,
   "metadata": {},
   "outputs": [],
   "source": [
    "qm9_dat = QMXDataset()\n",
    "qm9_dat.load(dummy_data=1000, dummy_default_target_size=4)\n",
    "data_loaders = qm9_dat.get_data_loaders(batch_sizes=(100, 100, 800))"
   ]
  },
  {
   "cell_type": "markdown",
   "metadata": {},
   "source": [
    "## Training\n",
    "Training is conducted using `Protocols`. These are a pre-defined set of instructions for `pytorch` that determine how the training is executed."
   ]
  },
  {
   "cell_type": "code",
   "execution_count": null,
   "metadata": {},
   "outputs": [],
   "source": [
    "protocol = GraphToVectorProtocol(\n",
    "    trainLoader=data_loaders['train'],\n",
    "    validLoader=data_loaders['valid']\n",
    ")\n",
    "protocol.initialize_model(\n",
    "    n_node_features=qm9_dat.n_class_per_feature[0],\n",
    "    n_edge_features=qm9_dat.n_class_per_feature[1],\n",
    "    output_size=4\n",
    ")\n",
    "protocol.initialize_support()"
   ]
  },
  {
   "cell_type": "code",
   "execution_count": null,
   "metadata": {},
   "outputs": [],
   "source": [
    "protocol.train(10, clip=2)"
   ]
  }
 ],
 "metadata": {
  "kernelspec": {
   "display_name": "Python 3",
   "language": "python",
   "name": "python3"
  },
  "language_info": {
   "codemirror_mode": {
    "name": "ipython",
    "version": 3
   },
   "file_extension": ".py",
   "mimetype": "text/x-python",
   "name": "python",
   "nbconvert_exporter": "python",
   "pygments_lexer": "ipython3",
   "version": "3.7.7"
  }
 },
 "nbformat": 4,
 "nbformat_minor": 4
}
