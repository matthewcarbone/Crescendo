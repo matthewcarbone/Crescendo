{
 "cells": [
  {
   "cell_type": "markdown",
   "metadata": {},
   "source": [
    "# 01: QM9 Loader Tutorial\n",
    "In this notebook, we demonstrate how to utilize this repository to load and analyze data in the `QM9` dataset, which can be downloaded [here](http://quantum-machine.org/datasets/). "
   ]
  },
  {
   "cell_type": "code",
   "execution_count": null,
   "metadata": {},
   "outputs": [],
   "source": [
    "%load_ext autoreload\n",
    "%autoreload 2"
   ]
  },
  {
   "cell_type": "code",
   "execution_count": null,
   "metadata": {},
   "outputs": [],
   "source": [
    "import os\n",
    "complete_path = os.getcwd()\n",
    "if 'tutorials' in complete_path:\n",
    "    os.chdir(\"..\")"
   ]
  },
  {
   "cell_type": "code",
   "execution_count": null,
   "metadata": {},
   "outputs": [],
   "source": [
    "import matplotlib.pyplot as plt\n",
    "import networkx as nx"
   ]
  },
  {
   "cell_type": "code",
   "execution_count": null,
   "metadata": {},
   "outputs": [],
   "source": [
    "from crescendo.datasets.qm9 import QMXDataset"
   ]
  },
  {
   "cell_type": "markdown",
   "metadata": {},
   "source": [
    "## Load the data\n",
    "Here, we load the internally-stored testing data from the local `data` directory, but the user can always modify this path to point to their own copy of the `QM9` database. Note that the `debug=9` flag below contstrains `load` to loading a maximum of 10 data points, thus speeding up the runtime. For a real analysis of the entire database, one should leave `debug` to it's default value of `-1`."
   ]
  },
  {
   "cell_type": "code",
   "execution_count": null,
   "metadata": {},
   "outputs": [],
   "source": [
    "path = 'data/qm9_test_data'\n",
    "qm9_dat = QMXDataset(debug=10)"
   ]
  },
  {
   "cell_type": "markdown",
   "metadata": {},
   "source": [
    "The `load` method contains a lot of useful flags for loading subsets of `QM9`.\n",
    "* `max_heavy_atoms`: the maximum number of C, N, O and F allowed. Default is 9, which corresponds to the entire `QM9` dataset.\n",
    "* `keep_zwitter`: if `True`, will keep [Zwitterionic](https://en.wikipedia.org/wiki/Zwitterion) compounds. Default is `False`.\n",
    "* `canonical`: if `True`, will load the canonical `SMILES` string as opposed to the normal one. Default is `True`. "
   ]
  },
  {
   "cell_type": "code",
   "execution_count": null,
   "metadata": {},
   "outputs": [],
   "source": [
    "qm9_dat.load(path)"
   ]
  },
  {
   "cell_type": "markdown",
   "metadata": {},
   "source": [
    "## Examining the raw data\n",
    "The raw data loaded into the `qm9_dat` object is contained in `qm9_dat.raw` dictionary and consists of `QM9SmilesDatum` objects indexed by keys corresponding to the QM9 ID's. We can do quite a few things with the data, including analysis methods:\n",
    "* `has_n_membered_ring`\n",
    "* `is_aromatic`\n",
    "* `has_double_bond`\n",
    "* etc...\n",
    "\n",
    "and a `to_graph` method"
   ]
  },
  {
   "cell_type": "code",
   "execution_count": null,
   "metadata": {},
   "outputs": [],
   "source": [
    "g = qm9_dat.raw[100001].to_graph()"
   ]
  },
  {
   "cell_type": "code",
   "execution_count": null,
   "metadata": {},
   "outputs": [],
   "source": [
    "print(qm9_dat.raw[100001].elements)\n",
    "print(qm9_dat.raw[100001].smiles)"
   ]
  },
  {
   "cell_type": "code",
   "execution_count": null,
   "metadata": {},
   "outputs": [],
   "source": [
    "nx.draw(g.to_networkx(), with_labels=True)"
   ]
  },
  {
   "cell_type": "code",
   "execution_count": null,
   "metadata": {},
   "outputs": [],
   "source": [
    "g.ndata['features']"
   ]
  },
  {
   "cell_type": "code",
   "execution_count": null,
   "metadata": {},
   "outputs": [],
   "source": []
  }
 ],
 "metadata": {
  "kernelspec": {
   "display_name": "Python 3",
   "language": "python",
   "name": "python3"
  },
  "language_info": {
   "codemirror_mode": {
    "name": "ipython",
    "version": 3
   },
   "file_extension": ".py",
   "mimetype": "text/x-python",
   "name": "python",
   "nbconvert_exporter": "python",
   "pygments_lexer": "ipython3",
   "version": "3.7.7"
  }
 },
 "nbformat": 4,
 "nbformat_minor": 4
}
