{
 "cells": [
  {
   "cell_type": "markdown",
   "metadata": {},
   "source": [
    "# 01: QM9 Loader Tutorial\n",
    "In this notebook, we demonstrate how to utilize this repository to load and analyze data in the `QM9` dataset, which can be downloaded [here](http://quantum-machine.org/datasets/). "
   ]
  },
  {
   "cell_type": "code",
   "execution_count": null,
   "metadata": {},
   "outputs": [],
   "source": [
    "%load_ext autoreload\n",
    "%autoreload 2"
   ]
  },
  {
   "cell_type": "code",
   "execution_count": null,
   "metadata": {},
   "outputs": [],
   "source": [
    "import os\n",
    "complete_path = os.getcwd()\n",
    "if 'tutorials' in complete_path:\n",
    "    os.chdir(\"..\")"
   ]
  },
  {
   "cell_type": "code",
   "execution_count": null,
   "metadata": {},
   "outputs": [],
   "source": [
    "import numpy as np\n",
    "import torch\n",
    "import matplotlib.pyplot as plt\n",
    "import networkx as nx\n",
    "import dgl\n",
    "import os"
   ]
  },
  {
   "cell_type": "code",
   "execution_count": null,
   "metadata": {},
   "outputs": [],
   "source": [
    "from crescendo.datasets.qm9 import QMXDataset\n",
    "# from crescendo.models.mpnn import MPNN  # MATT TODO"
   ]
  },
  {
   "cell_type": "markdown",
   "metadata": {},
   "source": [
    "## Load the data\n",
    "Here, we load the internally-stored testing data from the local `data` directory, but the user can always modify this path to point to their own copy of the `QM9` database. Note that the `debug=9` flag below contstrains `load` to loading a maximum of 10 data points, thus speeding up the runtime. For a real analysis of the entire database, one should leave `debug` to it's default value of `-1`.\n",
    "\n",
    "### Default path\n",
    "Note that by default, the program will look for a `$QM9_DATA_PATH` environment variable, and if that is not set, it will require a `path` parameter to be passed to the `load()` method. This environment variable can be easily set permanently by:\n",
    "1. Go to your `.bash_profile`\n",
    "2. Add a line `export QM9_DATA_PATH='/my/path/to/qm9`"
   ]
  },
  {
   "cell_type": "code",
   "execution_count": null,
   "metadata": {},
   "outputs": [],
   "source": [
    "# Just in case the user accidentally load from their environment\n",
    "# variable path, let's just load only some structures max by default\n",
    "LOAD_MAXIMUM = 20"
   ]
  },
  {
   "cell_type": "code",
   "execution_count": null,
   "metadata": {},
   "outputs": [],
   "source": [
    "test_path = 'data/qm9_test_data'\n",
    "qm9_dat = QMXDataset(debug=LOAD_MAXIMUM)"
   ]
  },
  {
   "cell_type": "markdown",
   "metadata": {},
   "source": [
    "The `load` method contains a lot of useful flags for loading subsets of `QM9`.\n",
    "* `max_heavy_atoms`: the maximum number of C, N, O and F allowed. Default is 9, which corresponds to the entire `QM9` dataset.\n",
    "* `keep_zwitter`: if `True`, will keep [Zwitterionic](https://en.wikipedia.org/wiki/Zwitterion) compounds. Default is `False`.\n",
    "* `canonical`: if `True`, will load the canonical `SMILES` string as opposed to the normal one. Default is `True`. "
   ]
  },
  {
   "cell_type": "code",
   "execution_count": null,
   "metadata": {},
   "outputs": [],
   "source": [
    "qm9_dat.load(path=test_path)"
   ]
  },
  {
   "cell_type": "markdown",
   "metadata": {},
   "source": [
    "## Examining the raw data\n",
    "The raw data loaded into the `qm9_dat` object is contained in `qm9_dat.raw` dictionary and consists of `QM9SmilesDatum` objects indexed by keys corresponding to the QM9 ID's. We can do quite a few things with the data, including analysis methods:\n",
    "* `has_n_membered_ring`\n",
    "* `is_aromatic`\n",
    "* `has_double_bond`\n",
    "* etc...\n",
    "\n",
    "and a `to_graph` method"
   ]
  },
  {
   "cell_type": "code",
   "execution_count": null,
   "metadata": {},
   "outputs": [],
   "source": [
    "qm9_dat.analyze()"
   ]
  },
  {
   "cell_type": "markdown",
   "metadata": {},
   "source": [
    "## Featurize the data\n",
    "The `QMXDataset` class offers functionality for loading in auxiliary data from other datasets and intersecting it with the QM9 dataset. This is a critical feature to have for machine learning because we will want to pair features and targets together. For example, the QM8 dataset is a subset of QM9 in terms of the overlap of QM9 ids. The `qm8_EP` featurizer method handles this."
   ]
  },
  {
   "cell_type": "markdown",
   "metadata": {},
   "source": [
    "### Load in the QM8 data\n",
    "We first need to load in the QM8 data before we execute the featurizer."
   ]
  },
  {
   "cell_type": "code",
   "execution_count": null,
   "metadata": {},
   "outputs": [],
   "source": [
    "qm9_dat.load_qm8_electronic_properties(path='data/qm8_test_data.txt')"
   ]
  },
  {
   "cell_type": "markdown",
   "metadata": {},
   "source": [
    "## Make ML-ready\n",
    "The `ml_ready` method will pair the QM9 data with the QM8 electronic information. Note that we need to tell the `ml_ready` method which node and edge features to use when featurizing the structures."
   ]
  },
  {
   "cell_type": "code",
   "execution_count": null,
   "metadata": {},
   "outputs": [],
   "source": [
    "qm9_dat.ml_ready(\n",
    "    'qm8_EP',\n",
    "    atom_feature_list=['type', 'hybridization'],\n",
    "    bond_feature_list=['type']\n",
    ")"
   ]
  },
  {
   "cell_type": "markdown",
   "metadata": {},
   "source": [
    "### Get the `DataLoaders`\n",
    "`PyTorch` has an incredibly useful piece of functionality called the `DataLoader`, which basically handles all nuances of batch training for the user."
   ]
  },
  {
   "cell_type": "code",
   "execution_count": null,
   "metadata": {},
   "outputs": [],
   "source": [
    "loaders = qm9_dat.get_data_loaders(\n",
    "    p_tvt=(0.2, 0.2, 0.6),\n",
    "    seed=123,\n",
    "    method='random'\n",
    ")"
   ]
  },
  {
   "cell_type": "code",
   "execution_count": null,
   "metadata": {},
   "outputs": [],
   "source": [
    "train_loader = loaders['train']"
   ]
  },
  {
   "cell_type": "markdown",
   "metadata": {},
   "source": [
    "The first entry of every batch is the graph, the second entry is the targets and the third entry is the QM9 IDs. One can always \"draw\" a batch of graphs via `networkx` using something like: `nx.draw(batch.to_networkx(), with_labels=True)`."
   ]
  },
  {
   "cell_type": "code",
   "execution_count": null,
   "metadata": {},
   "outputs": [],
   "source": [
    "for batch in train_loader:\n",
    "    print(batch[0], '\\n')\n",
    "    print(batch[1], '\\n')\n",
    "    print(batch[2].tolist(), '\\n')"
   ]
  },
  {
   "cell_type": "markdown",
   "metadata": {},
   "source": [
    "## Training\n",
    "**Matt TODO** - it will look something like this."
   ]
  },
  {
   "cell_type": "code",
   "execution_count": null,
   "metadata": {},
   "outputs": [],
   "source": [
    "mod = MPNN(\n",
    "    n_node_features=n_class_per_feature[0],\n",
    "    n_edge_features=n_class_per_feature[1],\n",
    "    output_size=4\n",
    ")"
   ]
  },
  {
   "cell_type": "code",
   "execution_count": null,
   "metadata": {},
   "outputs": [],
   "source": [
    "res = mod.forward(g, n, e)"
   ]
  }
 ],
 "metadata": {
  "kernelspec": {
   "display_name": "Python 3",
   "language": "python",
   "name": "python3"
  },
  "language_info": {
   "codemirror_mode": {
    "name": "ipython",
    "version": 3
   },
   "file_extension": ".py",
   "mimetype": "text/x-python",
   "name": "python",
   "nbconvert_exporter": "python",
   "pygments_lexer": "ipython3",
   "version": "3.7.7"
  }
 },
 "nbformat": 4,
 "nbformat_minor": 4
}
